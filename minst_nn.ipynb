{
  "nbformat": 4,
  "nbformat_minor": 0,
  "metadata": {
    "colab": {
      "name": "minst_nn.ipynb",
      "provenance": [],
      "collapsed_sections": []
    },
    "kernelspec": {
      "name": "python3",
      "display_name": "Python 3"
    }
  },
  "cells": [
    {
      "cell_type": "code",
      "metadata": {
        "colab": {
          "base_uri": "https://localhost:8080/"
        },
        "id": "Czu6jKx1TPgP",
        "outputId": "a50cad90-8a86-48c5-92c9-fb40b7ddd28e"
      },
      "source": [
        "pip install python-mnist"
      ],
      "execution_count": 1,
      "outputs": [
        {
          "output_type": "stream",
          "text": [
            "Requirement already satisfied: python-mnist in /usr/local/lib/python3.6/dist-packages (0.7)\n"
          ],
          "name": "stdout"
        }
      ]
    },
    {
      "cell_type": "code",
      "metadata": {
        "id": "DR3PPkPArwtx"
      },
      "source": [
        "import numpy as np\r\n",
        "\r\n",
        "class Calculator:\r\n",
        "    @staticmethod\r\n",
        "    def sigmoid(x):\r\n",
        "        return 1/(1+np.exp(-x))\r\n",
        "\r\n",
        "    @staticmethod\r\n",
        "    def sigmoid_der(x):\r\n",
        "        return Calculator.sigmoid(x) *(1 - Calculator.sigmoid (x))\r\n",
        "\r\n",
        "    @staticmethod\r\n",
        "    def softmax(x):\r\n",
        "        exps = np.exp(x - x.max())\r\n",
        "        return exps / np.sum(exps, axis=0)\r\n",
        "\r\n",
        "    @staticmethod\r\n",
        "    def softmax_der(x):\r\n",
        "        exps = np.exp(x - x.max())\r\n",
        "        return exps / np.sum(exps, axis=0) * (1 - exps / np.sum(exps, axis=0))\r\n"
      ],
      "execution_count": 2,
      "outputs": []
    },
    {
      "cell_type": "code",
      "metadata": {
        "id": "Uc-vWF-1RQKP"
      },
      "source": [
        "from mnist import MNIST\r\n",
        "import random\r\n",
        "import numpy as np\r\n",
        "\r\n",
        "class DataProvider():\r\n",
        "    def __init__(self, train_images_np, train_labels_np, test_images_np, test_labels_np):\r\n",
        "        self.train_images_np = train_images_np\r\n",
        "        self.train_labels_np = train_labels_np\r\n",
        "        self.train_labels_hot_encoded = DataProvider.one_hot_encode(train_labels_np)\r\n",
        "\r\n",
        "        self.test_images_np = test_images_np\r\n",
        "        self.test_labels_np = test_labels_np\r\n",
        "        self.test_labels_hot_encoded = DataProvider.one_hot_encode(test_labels_np)\r\n",
        "\r\n",
        "    @staticmethod\r\n",
        "    def load_from_folder(folder_name):\r\n",
        "        mndata = MNIST(folder_name)\r\n",
        "        mndata.gz = True\r\n",
        "\r\n",
        "        train_images, train_labels = mndata.load_training()\r\n",
        "        train_images_np = (np.array(train_images)/255).astype('float32')\r\n",
        "        train_labels_np = np.array(train_labels)\r\n",
        "        \r\n",
        "        test_images, test_labels = mndata.load_testing()\r\n",
        "        test_images_np = (np.array(test_images)/255).astype('float32')\r\n",
        "        test_labels_np = np.array(test_labels)\r\n",
        "        \r\n",
        "        return DataProvider(train_images_np, train_labels_np, test_images_np, test_labels_np)\r\n",
        "\r\n",
        "    def get_train_x(self):\r\n",
        "        return self.train_images_np\r\n",
        "\r\n",
        "    def get_train_y(self):\r\n",
        "        return self.train_labels_np\r\n",
        "        \r\n",
        "    def get_hot_encoded_train_y(self):\r\n",
        "        return self.train_labels_hot_encoded\r\n",
        "\r\n",
        "    def get_test_x(self):\r\n",
        "        return self.test_images_np\r\n",
        "\r\n",
        "    def get_test_y(self):\r\n",
        "        return self.test_labels_np\r\n",
        "        \r\n",
        "    def get_hot_encoded_test_y(self):\r\n",
        "        return self.test_labels_hot_encoded\r\n",
        "\r\n",
        "    @staticmethod\r\n",
        "    def one_hot_encode(labels):\r\n",
        "        num_of_labels = len(labels)\r\n",
        "        num_of_classes = np.max(labels) + 1\r\n",
        "\r\n",
        "        one_hot_labels = np.zeros((num_of_labels, num_of_classes))\r\n",
        "\r\n",
        "        for i in range(num_of_labels):\r\n",
        "            one_hot_labels[i, labels[i]] = 1\r\n",
        "        \r\n",
        "        return one_hot_labels\r\n"
      ],
      "execution_count": 3,
      "outputs": []
    },
    {
      "cell_type": "code",
      "metadata": {
        "id": "u6FSTQVkC4gz"
      },
      "source": [
        "import numpy as np\r\n",
        "import time\r\n",
        "\r\n",
        "class NeuralNet():\r\n",
        "    def __init__(self, sizes, epochs=10, l_rate=0.001):\r\n",
        "        self.sizes = sizes\r\n",
        "        self.epochs = epochs\r\n",
        "        self.l_rate = l_rate\r\n",
        "\r\n",
        "        self.params = self.initialize_parameters()\r\n",
        "\r\n",
        "    def initialize_parameters(self):\r\n",
        "        input_layer=self.sizes[0]\r\n",
        "        hidden_1=self.sizes[1]\r\n",
        "        output_layer=self.sizes[2]\r\n",
        "\r\n",
        "        params = {\r\n",
        "            'W1': np.random.randn(hidden_1, input_layer) / np.sqrt( hidden_1),\r\n",
        "            'W2': np.random.randn(output_layer, hidden_1) / np.sqrt( output_layer),\r\n",
        "        }\r\n",
        "\r\n",
        "        return params\r\n",
        "\r\n",
        "    def forward_progation(self, x_train):\r\n",
        "        params = self.params\r\n",
        "\r\n",
        "        # input layer activations becomes sample\r\n",
        "        params['A0'] = x_train\r\n",
        "\r\n",
        "        # input layer to hidden layer 1\r\n",
        "        params['Z1'] = np.dot(params[\"W1\"], params['A0'])\r\n",
        "        params['A1'] = Calculator.sigmoid(params['Z1'])\r\n",
        "\r\n",
        "        # hidden layer 2 to output layer\r\n",
        "        params['Z2'] = np.dot(params[\"W2\"], params['A1'])\r\n",
        "        params['A2'] = Calculator.softmax(params['Z2'])\r\n",
        "\r\n",
        "        return params['A2']\r\n",
        "\r\n",
        "    def backward_progation(self, y_train, output):\r\n",
        "        params = self.params\r\n",
        "        change_w = {}\r\n",
        "\r\n",
        "        # Calculate W2 update\r\n",
        "        error = 2 * (output - y_train) / output.shape[0] * Calculator.softmax_der(params['Z2'])\r\n",
        "        change_w['W2'] = np.outer(error, params['A1'])\r\n",
        "\r\n",
        "        # Calculate W1 update\r\n",
        "        error = np.dot(params['W2'].T, error) * Calculator.sigmoid_der(params['Z1'])\r\n",
        "        change_w['W1'] = np.outer(error, params['A0'])\r\n",
        "\r\n",
        "        return change_w\r\n",
        "\r\n",
        "    def update_parameters(self, changes_to_w):\r\n",
        "        for key, value in changes_to_w.items():\r\n",
        "            self.params[key] -= self.l_rate * value\r\n",
        "\r\n",
        "    def compute_accuracy(self, x_val, y_val):\r\n",
        "        predictions = []\r\n",
        "\r\n",
        "        for x, y in zip(x_val, y_val):\r\n",
        "            output = self.forward_progation(x)\r\n",
        "            pred = np.argmax(output)\r\n",
        "            predictions.append(pred == np.argmax(y))\r\n",
        "        \r\n",
        "        return np.mean(predictions)\r\n",
        "\r\n",
        "    def train(self, x_train, y_train, x_val, y_val):\r\n",
        "        start_time = time.time()\r\n",
        "        for iteration in range(self.epochs):\r\n",
        "            for x,y in zip(x_train, y_train):\r\n",
        "                output = self.forward_progation(x)\r\n",
        "                changes_to_w = self.backward_progation(y, output)\r\n",
        "                self.update_parameters(changes_to_w)\r\n",
        "            \r\n",
        "            accuracy = self.compute_accuracy(x_val, y_val)\r\n",
        "            print('Epoch: {0}, Time Spent: {1:.2f}s, Accuracy: {2:.2f}%'.format(\r\n",
        "                iteration+1, time.time() - start_time, accuracy * 100\r\n",
        "            ))\r\n"
      ],
      "execution_count": 4,
      "outputs": []
    },
    {
      "cell_type": "code",
      "metadata": {
        "colab": {
          "base_uri": "https://localhost:8080/",
          "height": 979
        },
        "id": "E6BhXwxuAAxU",
        "outputId": "4ec00fdd-86f8-4955-8d02-cf712ab56d31"
      },
      "source": [
        "import numpy as np\r\n",
        "import matplotlib.pyplot as plt\r\n",
        "\r\n",
        "class Testing:\r\n",
        "    @staticmethod\r\n",
        "    def data_analysis():\r\n",
        "        dp = DataProvider.load_from_folder('samples')\r\n",
        "\r\n",
        "        train_y = dp.get_train_y()\r\n",
        "        print(\"train data\")\r\n",
        "        y_value=np.zeros((1,10))\r\n",
        "        for i in range (10):\r\n",
        "            print(\"occurance of \",i,\"=\",np.count_nonzero(train_y==i))\r\n",
        "            y_value[0,i-1] = np.count_nonzero(train_y==i)\r\n",
        "        \r\n",
        "        y_value=y_value.ravel()\r\n",
        "        x_value=[0,1,2,3,4,5,6,7,8,9]\r\n",
        "        plt.xlabel('klasa')\r\n",
        "        plt.ylabel('liczba wystąpień klasy')\r\n",
        "        plt.bar(x_value,y_value,0.7,color='g')\r\n",
        "        plt.show()\r\n",
        "\r\n",
        "        \r\n",
        "        test_y = dp.get_test_y()\r\n",
        "        print(\"test data\")\r\n",
        "        y_value=np.zeros((1,10))\r\n",
        "        for i in range (10):\r\n",
        "            print(\"occurance of \",i,\"=\",np.count_nonzero(test_y==i))\r\n",
        "            y_value[0,i-1] = np.count_nonzero(test_y==i)\r\n",
        "        \r\n",
        "        y_value=y_value.ravel()\r\n",
        "        x_value=[0,1,2,3,4,5,6,7,8,9]\r\n",
        "        plt.xlabel('klasa')\r\n",
        "        plt.ylabel('liczba wystąpień klasy')\r\n",
        "        plt.bar(x_value,y_value,0.7,color='g')\r\n",
        "        plt.show()\r\n",
        "    \r\n",
        "    @staticmethod\r\n",
        "    def example():\r\n",
        "        dp = DataProvider.load_from_folder('samples')\r\n",
        "\r\n",
        "        nn = NeuralNet(sizes=[784, 128, 10])\r\n",
        "        nn.train(dp.get_train_x(), dp.get_hot_encoded_train_y(), dp.get_test_x(), dp.get_hot_encoded_test_y())\r\n",
        "\r\n",
        "Testing.data_analysis()\r\n",
        "Testing.example()\r\n",
        "\r\n"
      ],
      "execution_count": null,
      "outputs": [
        {
          "output_type": "stream",
          "text": [
            "train data\n",
            "occurance of  0 = 5923\n",
            "occurance of  1 = 6742\n",
            "occurance of  2 = 5958\n",
            "occurance of  3 = 6131\n",
            "occurance of  4 = 5842\n",
            "occurance of  5 = 5421\n",
            "occurance of  6 = 5918\n",
            "occurance of  7 = 6265\n",
            "occurance of  8 = 5851\n",
            "occurance of  9 = 5949\n"
          ],
          "name": "stdout"
        },
        {
          "output_type": "display_data",
          "data": {
            "image/png": "[encoded data removed]",
            "text/plain": [
              "<Figure size 432x288 with 1 Axes>"
            ]
          },
          "metadata": {
            "tags": [],
            "needs_background": "light"
          }
        },
        {
          "output_type": "stream",
          "text": [
            "test data\n",
            "occurance of  0 = 980\n",
            "occurance of  1 = 1135\n",
            "occurance of  2 = 1032\n",
            "occurance of  3 = 1010\n",
            "occurance of  4 = 982\n",
            "occurance of  5 = 892\n",
            "occurance of  6 = 958\n",
            "occurance of  7 = 1028\n",
            "occurance of  8 = 974\n",
            "occurance of  9 = 1009\n"
          ],
          "name": "stdout"
        },
        {
          "output_type": "display_data",
          "data": {
            "image/png": "[encoded data removed]",
            "text/plain": [
              "<Figure size 432x288 with 1 Axes>"
            ]
          },
          "metadata": {
            "tags": [],
            "needs_background": "light"
          }
        },
        {
          "output_type": "stream",
          "text": [
            "Epoch: 1, Time Spent: 49.54s, Accuracy: 53.19%\n",
            "Epoch: 2, Time Spent: 99.24s, Accuracy: 69.04%\n"
          ],
          "name": "stdout"
        }
      ]
    }
  ]
}